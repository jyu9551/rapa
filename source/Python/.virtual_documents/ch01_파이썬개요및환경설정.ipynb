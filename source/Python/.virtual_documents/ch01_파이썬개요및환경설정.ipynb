





print('Hello')


1 + int('2')


for i in range(1,6):
    print(i, end=' ')









