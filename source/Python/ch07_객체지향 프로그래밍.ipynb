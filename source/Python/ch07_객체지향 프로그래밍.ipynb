{
 "cells": [
  {
   "cell_type": "markdown",
   "id": "c9665e81-1e7d-44de-adc4-efec14539ebd",
   "metadata": {},
   "source": [
    "# ch07 객체지향 프로그래밍"
   ]
  },
  {
   "cell_type": "markdown",
   "id": "8e1a20f0-37d6-4753-aaa5-c782d49ed82b",
   "metadata": {},
   "source": [
    "### 1. 객체와 클래스\n",
    "     class 클래스명(상속받을 클래스명):\n",
    "          변수나 함수 선언 "
   ]
  },
  {
   "cell_type": "code",
   "execution_count": 12,
   "id": "43681288-9ef6-4ee4-9ac9-4b348d05a4e7",
   "metadata": {},
   "outputs": [],
   "source": [
    "class Person:\n",
    "    \" Person 클래스는 어쩌고 ~ \"\n",
    "    pass\n",
    "\n",
    "p1 = Person() #p1은 객체의 주소"
   ]
  },
  {
   "cell_type": "code",
   "execution_count": 39,
   "id": "cc623025-6414-48a2-8380-0281eece15df",
   "metadata": {},
   "outputs": [
    {
     "name": "stdout",
     "output_type": "stream",
     "text": [
      "성춘향 여자가 생성되었습니다\n",
      "저는 성춘향 여자입니다\t성춘향성춘향성춘향\n"
     ]
    }
   ],
   "source": [
    "class Person(): \n",
    "    \" Person 클래스는 이름과 성별 멤버변수가 있는 객체 타입 \"\n",
    "    \n",
    "    # 생성자\n",
    "    def __init__(self, name='홍길동', gender='남자'):\n",
    "        self.name = name\n",
    "        self.gender = gender\n",
    "        print(self.name, self.gender + '가 생성되었습니다')\n",
    "    def print_info(self):\n",
    "        print('저는', self.name, self.gender + '입니다', end='\\t')\n",
    "    def printCnt(self, cnt):\n",
    "        print(self.name*cnt)\n",
    "    def __str__(self):\n",
    "        return \"{}\\t 성별은 {}\".format(self.name, self.gender)\n",
    "    \n",
    "p1 = Person('성춘향', '여자')\n",
    "p1.print_info()\n",
    "p1.printCnt(3)"
   ]
  },
  {
   "cell_type": "code",
   "execution_count": 40,
   "id": "fe606daf-a180-4b98-9a34-5c1deaf2ed25",
   "metadata": {},
   "outputs": [
    {
     "name": "stdout",
     "output_type": "stream",
     "text": [
      "성춘향\t 성별은 여자\n",
      "성춘향\t 성별은 여자\n"
     ]
    }
   ],
   "source": [
    "print(p1.__str__())\n",
    "print(p1)"
   ]
  },
  {
   "cell_type": "markdown",
   "id": "e2a142a1-d1a2-4e1f-ba52-234d6c4aa3ca",
   "metadata": {},
   "source": [
    "### 2. 상속과 재정의(오버라이딩)"
   ]
  },
  {
   "cell_type": "code",
   "execution_count": 60,
   "id": "4334c0a6-8107-4dcb-88b6-a7564653a526",
   "metadata": {},
   "outputs": [],
   "source": [
    "class Student(Person):\n",
    "    \" name, gender, major 멤버변수를 갖는 Student타입 \"\n",
    "\n",
    "    # 생성자\n",
    "    def __init__(self, name, gender, major):\n",
    "        super().__init__(name, gender)\n",
    "        self.major = major\n",
    "    def print_info(self):\n",
    "        super().print_info()\n",
    "        print('그리고 전공은', self.major + '입니다')\n",
    "    def print_cnt(self):\n",
    "        super.print_cnt()\n",
    "    def __str__(self):\n",
    "        return super().__str__() + \"그리고 전공은 {}\".format(self.major)"
   ]
  },
  {
   "cell_type": "code",
   "execution_count": 61,
   "id": "ebfd87a0-234b-44e7-9509-1bd6ff0281a2",
   "metadata": {},
   "outputs": [
    {
     "name": "stdout",
     "output_type": "stream",
     "text": [
      "김철수 남자가 생성되었습니다\n"
     ]
    }
   ],
   "source": [
    "p2 = Student('김철수', '남자', '컴공')"
   ]
  },
  {
   "cell_type": "code",
   "execution_count": null,
   "id": "fa278a37-d9e1-4ceb-9146-9e3bdb1a2b5e",
   "metadata": {},
   "outputs": [],
   "source": []
  }
 ],
 "metadata": {
  "kernelspec": {
   "display_name": "Python 3 (ipykernel)",
   "language": "python",
   "name": "python3"
  },
  "language_info": {
   "codemirror_mode": {
    "name": "ipython",
    "version": 3
   },
   "file_extension": ".py",
   "mimetype": "text/x-python",
   "name": "python",
   "nbconvert_exporter": "python",
   "pygments_lexer": "ipython3",
   "version": "3.11.7"
  }
 },
 "nbformat": 4,
 "nbformat_minor": 5
}
