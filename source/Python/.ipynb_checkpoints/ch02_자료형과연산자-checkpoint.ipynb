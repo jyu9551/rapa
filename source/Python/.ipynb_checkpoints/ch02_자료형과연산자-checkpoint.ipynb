{
 "cells": [
  {
   "cell_type": "markdown",
   "id": "0b59c072-825f-40a4-957d-203b80387c05",
   "metadata": {},
   "source": [
    "# ch02 자료형과 연산자"
   ]
  },
  {
   "cell_type": "markdown",
   "id": "cbb3172f-fedc-4693-9a85-57ff1da53659",
   "metadata": {},
   "source": [
    "### 1. 변수\n",
    "    - 별도의 변수 선언 과정 없음\n",
    "    - 변수 할당은 대입연산자(=) 사용\n",
    "    - 변수 삭제는 del 사용\n",
    "    - 여러 변수에 여러 개 값을 넣을 수 있다"
   ]
  },
  {
   "cell_type": "code",
   "execution_count": 38,
   "id": "bb448803-f2f1-4c4e-a60b-fb903f0c0516",
   "metadata": {},
   "outputs": [
    {
     "name": "stdout",
     "output_type": "stream",
     "text": [
      "넓이는 28.274333882308138\n"
     ]
    }
   ],
   "source": [
    "import numpy as np\n",
    "r = 3\n",
    "area = np.pi * r * r\n",
    "print(\"넓이는\", area)"
   ]
  },
  {
   "cell_type": "code",
   "execution_count": 39,
   "id": "34526d84-d695-4c5f-8e54-b0fc82a39792",
   "metadata": {},
   "outputs": [
    {
     "name": "stdout",
     "output_type": "stream",
     "text": [
      "실수일 때,  <class 'float'> 2873432488016\n",
      "정수일 때,  <class 'int'> 140705525057160\n",
      "문자열일 때,  <class 'str'> 2873434821872\n"
     ]
    }
   ],
   "source": [
    "print(\"실수일 때, \", type(area), id(area))\n",
    "\n",
    "area = 28\n",
    "print(\"정수일 때, \", type(area), id(area))\n",
    "\n",
    "area = 'helloworld'\n",
    "print(\"문자열일 때, \", type(area), id(area))"
   ]
  },
  {
   "cell_type": "code",
   "execution_count": 40,
   "id": "50ceecb2-bff1-4d0a-bb66-972d00995379",
   "metadata": {},
   "outputs": [],
   "source": [
    "# 변수 삭제\n",
    "del area"
   ]
  },
  {
   "cell_type": "code",
   "execution_count": 41,
   "id": "aab261ce-0019-46d1-a478-45d2791fc2ae",
   "metadata": {},
   "outputs": [
    {
     "data": {
      "text/plain": [
       "complex"
      ]
     },
     "execution_count": 41,
     "metadata": {},
     "output_type": "execute_result"
    }
   ],
   "source": [
    "# 복소수 j\n",
    "i = 3 + 3j\n",
    "type(i)"
   ]
  },
  {
   "cell_type": "code",
   "execution_count": 44,
   "id": "67e25e7a-d99d-4bfd-85f5-bc0d811a5fac",
   "metadata": {},
   "outputs": [
    {
     "name": "stdout",
     "output_type": "stream",
     "text": [
      "a = 1  b = 2\n",
      "a = 2  b = 3\n"
     ]
    }
   ],
   "source": [
    "# 여러 변수에 여러 값 넣기\n",
    "a, b = 1, 2\n",
    "print(\"a =\", a, \" b =\", b)\n",
    "\n",
    "a, b = b, a+b    #병렬로\n",
    "print(\"a =\", a, \" b =\", b)"
   ]
  },
  {
   "cell_type": "markdown",
   "id": "fa3ca774-3f17-4aa0-979b-060a1d3ed8c9",
   "metadata": {},
   "source": [
    "### 2. 도움말\n",
    "    - help(print)\n",
    "    - print?\n",
    "    - space + shift + tab"
   ]
  },
  {
   "cell_type": "markdown",
   "id": "1971f5ee-cb03-4001-95ea-50fe2fc58ace",
   "metadata": {},
   "source": [
    "### 3. 함수"
   ]
  },
  {
   "cell_type": "code",
   "execution_count": 59,
   "id": "e4f1042f-c612-4226-9091-3bd64979d0f0",
   "metadata": {},
   "outputs": [],
   "source": [
    "# 함수 정의\n",
    "def make_number(x, y=0):\n",
    "    ''' <함수 도움말>\n",
    "    매개변수 2개를 이용해 두 자리 정수 생성\n",
    "    x는 10의 자리수\n",
    "    y는 1의 자리수\n",
    "    '''\n",
    "    return x*10 + y"
   ]
  },
  {
   "cell_type": "code",
   "execution_count": 57,
   "id": "65d2343e-b6e0-4340-b1d0-bc0f999051af",
   "metadata": {},
   "outputs": [
    {
     "data": {
      "text/plain": [
       "34"
      ]
     },
     "execution_count": 57,
     "metadata": {},
     "output_type": "execute_result"
    }
   ],
   "source": [
    "make_number(3,4)"
   ]
  },
  {
   "cell_type": "code",
   "execution_count": 58,
   "id": "324751e2-380d-4f0f-9d7b-952900a79a00",
   "metadata": {},
   "outputs": [
    {
     "data": {
      "text/plain": [
       "34"
      ]
     },
     "execution_count": 58,
     "metadata": {},
     "output_type": "execute_result"
    }
   ],
   "source": [
    "# 함수를 변수에 할당 가능\n",
    "make = make_number\n",
    "make(3,4)"
   ]
  },
  {
   "cell_type": "markdown",
   "id": "30dc6a0b-f3e2-42c5-9be7-5647b5425e33",
   "metadata": {},
   "source": [
    "### 4. 화면 입출력"
   ]
  },
  {
   "cell_type": "code",
   "execution_count": 65,
   "id": "14e8283f-cb83-4c91-b24e-23ff4e81ced0",
   "metadata": {},
   "outputs": [
    {
     "name": "stdin",
     "output_type": "stream",
     "text": [
      "첫 번째 숫자 입력 :  3\n",
      "두 번째 숫자 입력 :  4\n"
     ]
    },
    {
     "name": "stdout",
     "output_type": "stream",
     "text": [
      "두 수의 합 =  7\n"
     ]
    }
   ],
   "source": [
    "first = input('첫 번째 숫자 입력 : ')\n",
    "second = input('두 번째 숫자 입력 : ')\n",
    "\n",
    "print('두 수의 합 = ', int(first)+int(second))"
   ]
  },
  {
   "cell_type": "code",
   "execution_count": 72,
   "id": "426be857-a036-4ed9-91af-a890019b59ba",
   "metadata": {},
   "outputs": [
    {
     "name": "stdout",
     "output_type": "stream",
     "text": [
      "3,4 "
     ]
    }
   ],
   "source": [
    "print(first, second, sep=',', end=' ')"
   ]
  },
  {
   "cell_type": "markdown",
   "id": "976f4b70-bd7d-4b08-8e27-ccb58e24c2cc",
   "metadata": {},
   "source": [
    "### 5. 자료형\n",
    "    - 숫자 : int, float, complex (double X)\n",
    "    - 문자 : str\n",
    "    - 논리 : bool"
   ]
  },
  {
   "cell_type": "code",
   "execution_count": 88,
   "id": "30baa821-9c3a-4422-afaf-e6094db94479",
   "metadata": {},
   "outputs": [
    {
     "name": "stdout",
     "output_type": "stream",
     "text": [
      "9223372036854775807\n"
     ]
    }
   ],
   "source": [
    "# 숫자\n",
    "import sys\n",
    "print(sys.maxsize)"
   ]
  },
  {
   "cell_type": "code",
   "execution_count": 92,
   "id": "452b8f20-be1f-4447-b302-b9a234e0927b",
   "metadata": {},
   "outputs": [
    {
     "name": "stdout",
     "output_type": "stream",
     "text": [
      "안녕하세요\n",
      "홍길동입니다\n",
      "반갑습니다\n",
      "안녕하세요\n",
      "홍길동입니다\n",
      "반갑습니다\n"
     ]
    }
   ],
   "source": [
    "# 문자\n",
    "text = \"안녕하세요\\n홍길동입니다\\n반갑습니다\"\n",
    "print(text)\n",
    "\n",
    "text = \"\"\"안녕하세요\n",
    "홍길동입니다\n",
    "반갑습니다\"\"\"\n",
    "print(text)"
   ]
  },
  {
   "cell_type": "code",
   "execution_count": 133,
   "id": "d403a528-6c29-4013-b87b-4309e6560fa6",
   "metadata": {},
   "outputs": [
    {
     "name": "stdout",
     "output_type": "stream",
     "text": [
      "0123456789\n",
      "012\n",
      "56789\n",
      "01234\n",
      "9\n",
      "5678\n",
      "02468\n",
      "0369\n",
      "9876543210\n"
     ]
    }
   ],
   "source": [
    "# 문자열 슬라이싱\n",
    "num = \"0123456789\"\n",
    "print(num)\n",
    "\n",
    "print(num[0:3])\n",
    "print(num[5:])\n",
    "print(num[:5])\n",
    "\n",
    "print(num[-1])\n",
    "print(num[-5:-1])\n",
    "\n",
    "print(num[0:9:2]) # from 0 to 9, step=2\n",
    "print(num[::3])   # step=3 \n",
    "print(num[9::-1]) # from 9, step=-1"
   ]
  },
  {
   "cell_type": "code",
   "execution_count": 134,
   "id": "fcb78223-8c88-410e-9a68-0ada15c5a102",
   "metadata": {},
   "outputs": [
    {
     "name": "stdout",
     "output_type": "stream",
     "text": [
      "False\n"
     ]
    }
   ],
   "source": [
    "# 논리형 (True or False)\n",
    "# False : 0, None, \"\", '', [], (), {}\n",
    "# True : \" \", '\\0'\n",
    "\n",
    "if 0+0j:\n",
    "    print(True)\n",
    "else:\n",
    "    print(False)"
   ]
  },
  {
   "cell_type": "code",
   "execution_count": 137,
   "id": "242c7935-c189-4db1-b9b7-1e08966199c1",
   "metadata": {},
   "outputs": [],
   "source": [
    "# 형변환\n",
    "#'2,000' 을 int로"
   ]
  },
  {
   "cell_type": "code",
   "execution_count": 138,
   "id": "30735f8d-0d4d-4972-bf69-78a2c52e80d3",
   "metadata": {},
   "outputs": [
    {
     "name": "stdout",
     "output_type": "stream",
     "text": [
      "[$$$$$$$$10, [001103-*******]\n"
     ]
    }
   ],
   "source": [
    "# format() 함수\n",
    "# \"{[인덱스]:[공백대체문자].[정렬방법].[자릿수].[타입]}\".format(변수명, ...)\n",
    "# - 정렬방법 : < , > , ^\n",
    "# - 타입 : d(10진수), x(16진수), b(2진수), f(실수), s(문자)\n",
    "a = 10\n",
    "s = '001103-1234567'\n",
    "print(\"[{0:$>10d}, [{1:*<14.7}]\".format(a, s))"
   ]
  },
  {
   "cell_type": "markdown",
   "id": "e98b1f81-f549-4307-9c45-8efb58b7e563",
   "metadata": {},
   "source": [
    "### 6. 연산자\n",
    "    - 산술 연산자 : +, -, *, /, //, %, **\n",
    "    - 할당 연산자 : =, +=, -=, /=, *= .. \n",
    "    - 논리 연산자 : &, and, |, or, not (우선순위 높음) \n",
    "    - 비트 연산자 : &, |, ^, >>, <<, ~\n",
    "    - 비교 연산자 : <, >, <=, >=, ==, !="
   ]
  },
  {
   "cell_type": "code",
   "execution_count": 139,
   "id": "1708ecdb-1f0b-43bb-aada-efbc1f0e85b7",
   "metadata": {},
   "outputs": [
    {
     "name": "stdout",
     "output_type": "stream",
     "text": [
      "True\n",
      "2\n"
     ]
    }
   ],
   "source": [
    "# 논리 vs 비트\n",
    "print((10>3) & (10>5)) # 논리 연산자 (bool값 사이의 연산)\n",
    "print(10 & 3) # 비트 연산자"
   ]
  },
  {
   "cell_type": "code",
   "execution_count": 140,
   "id": "98de1c0d-5096-4b6f-a1e3-fcc0d6e992b4",
   "metadata": {},
   "outputs": [
    {
     "data": {
      "text/plain": [
       "True"
      ]
     },
     "execution_count": 140,
     "metadata": {},
     "output_type": "execute_result"
    }
   ],
   "source": [
    "a, b = 2, 3\n",
    "1 < a < b < 4"
   ]
  },
  {
   "cell_type": "markdown",
   "id": "23e375de-2a5a-463e-832c-02b72f5fdcfd",
   "metadata": {},
   "source": [
    "### 7. 문자열 다루기\n",
    "    - 문자열 슬라이싱\n",
    "    - len() : 문자 개수\n",
    "    - upper(), lower() : 대문자로, 소문자로\n",
    "    - title() : 첫 문자만 대문자로\n",
    "    - capitalize() : 첫 문자만 대문자로, 나머지는 소문자로\n",
    "    - count() : 찾을 문자열이 몇개 있는지\n",
    "    - find() : 찾을 문자열의 인덱스값 (왼쪽부터) / 없으면 -1 반환\n",
    "    - rfind() : 찾을 문자열의 인덱스값 (오른쪽부터) / 없으면 -1 반환\n",
    "    - startswith() : 특정 문자열로 시작하는지 True or False\n",
    "    - endswith() : 특정 문자열로 끝나는지 True or False\n",
    "    - strip() : 좌우 공백 제거\n",
    "    - lstrip() : 왼쪽 공백 제거\n",
    "    - rstrip() : 오른쪽 공백 제거\n",
    "    - isdigit() : 숫자 문자열인지 True or False\n",
    "    - islower() : 소문자 문자열인지 True or False\n",
    "    - isupper() : 대문자 문자열인지 True or False\n",
    "    - replace(a, b) : a 문자열을 b 문자열로 변경"
   ]
  },
  {
   "cell_type": "code",
   "execution_count": 162,
   "id": "ade9022d-502c-4464-a49d-c39f51829122",
   "metadata": {},
   "outputs": [
    {
     "name": "stdout",
     "output_type": "stream",
     "text": [
      "len() : 19\n",
      "\n",
      "upper() : HELLO FUCKING KELLY\n",
      "title() : Hello Fucking Kelly\n",
      "capitalize() : Hello fucking kelly\n",
      "\n",
      "count() : 2\n",
      "find() : 2\n",
      "rfind() : 16\n",
      "\n",
      "startswith() : False\n",
      "endswith() : True\n",
      "\n",
      "isdigit() : False\n",
      "islower() : False\n",
      "isupper() : False\n",
      "\n",
      "replace() : hello   Kelly\n"
     ]
    }
   ],
   "source": [
    "tmp = 'hello fucking Kelly'\n",
    "print(\"len() :\", len(tmp))\n",
    "\n",
    "print(\"\\nupper() :\", tmp.upper())\n",
    "print(\"title() :\", tmp.title())\n",
    "print(\"capitalize() :\", tmp.capitalize())\n",
    "\n",
    "print(\"\\ncount() :\", tmp.count('ll'))\n",
    "print(\"find() :\", tmp.find('ll'))\n",
    "print(\"rfind() :\", tmp.rfind('ll'))\n",
    "\n",
    "print(\"\\nstartswith() :\", tmp.startswith('A'))\n",
    "print(\"endswith() :\", tmp.endswith('ly'))\n",
    "\n",
    "print(\"\\nisdigit() :\", tmp.isdigit())\n",
    "print(\"islower() :\", tmp.islower())\n",
    "print(\"isupper() :\", tmp.isupper())\n",
    "\n",
    "print(\"\\nreplace() :\", tmp.replace('fucking', ' '))"
   ]
  },
  {
   "cell_type": "code",
   "execution_count": 178,
   "id": "aeb20214-6689-484c-a808-e54c605ae322",
   "metadata": {},
   "outputs": [
    {
     "name": "stdout",
     "output_type": "stream",
     "text": [
      "['hello', 'fucking', 'Kelly']\n",
      "hello~fucking~Kelly\n"
     ]
    }
   ],
   "source": [
    "# split()과 join()\n",
    "word = tmp.split(' ')\n",
    "print(word)\n",
    "\n",
    "sentence = '~'.join(word)\n",
    "print(sentence)"
   ]
  },
  {
   "cell_type": "markdown",
   "id": "799b2797-59b1-4840-8ccb-089e47e3631f",
   "metadata": {},
   "source": [
    "### 8. 날짜와 시간"
   ]
  },
  {
   "cell_type": "code",
   "execution_count": 182,
   "id": "0fc5a9a4-f668-46c7-85ef-d12242faa099",
   "metadata": {},
   "outputs": [
    {
     "name": "stdout",
     "output_type": "stream",
     "text": [
      "2024-05-29\n"
     ]
    }
   ],
   "source": [
    "from datetime import date\n",
    "someday = date(2024, 5, 29)\n",
    "print(someday)"
   ]
  },
  {
   "cell_type": "code",
   "execution_count": 183,
   "id": "2bbad18c-1b61-4bb9-8664-9f9b8a637d89",
   "metadata": {},
   "outputs": [
    {
     "name": "stdout",
     "output_type": "stream",
     "text": [
      "2024-05-30\n"
     ]
    }
   ],
   "source": [
    "today = date.today()\n",
    "print(today)"
   ]
  },
  {
   "cell_type": "code",
   "execution_count": 184,
   "id": "ea60f6e1-a345-4b39-b731-3dad1e2a1c03",
   "metadata": {},
   "outputs": [
    {
     "name": "stdout",
     "output_type": "stream",
     "text": [
      "2024-05-30 12:48:06.606989\n"
     ]
    }
   ],
   "source": [
    "from datetime import datetime\n",
    "now = datetime.today()\n",
    "print(now)"
   ]
  },
  {
   "cell_type": "markdown",
   "id": "affe28be-8989-4c63-b453-65f48f1bab72",
   "metadata": {},
   "source": [
    "### 9. 연습문제"
   ]
  },
  {
   "cell_type": "code",
   "execution_count": 224,
   "id": "d015b9ac-53fc-457d-a7fc-6bb85f1aedba",
   "metadata": {},
   "outputs": [
    {
     "name": "stdin",
     "output_type": "stream",
     "text": [
      "이름과 나이를 입력하세요 : ㅁㄴㅇ 12\n"
     ]
    },
    {
     "name": "stdout",
     "output_type": "stream",
     "text": [
      "ㅁㄴㅇ님의 나이는 12살입니다\n"
     ]
    }
   ],
   "source": [
    "# 1\n",
    "name, age = input('이름과 나이를 입력하세요 : ').split()\n",
    "print('{}님의 나이는 {}살입니다'.format(name, age))"
   ]
  },
  {
   "cell_type": "code",
   "execution_count": 227,
   "id": "47ef682c-48da-4c65-8469-3628aac0d2a1",
   "metadata": {},
   "outputs": [
    {
     "name": "stdin",
     "output_type": "stream",
     "text": [
      "두 수를 입력하세요 :  4 2\n"
     ]
    },
    {
     "name": "stdout",
     "output_type": "stream",
     "text": [
      "6 2 8 2.0 2 0\n"
     ]
    }
   ],
   "source": [
    "# 2\n",
    "a,b = input('두 수를 입력하세요 : ').split()\n",
    "a = int(a); b = int(b)\n",
    "\n",
    "try:\n",
    "    print(a+b, a-b, a*b, a/b, a//b, a%b)\n",
    "except:\n",
    "    print('두 번째 정수에 0을 넣지 마세요')"
   ]
  },
  {
   "cell_type": "code",
   "execution_count": 229,
   "id": "df363e97-7065-45c2-aea2-fe3c5e22e9ef",
   "metadata": {},
   "outputs": [
    {
     "name": "stdout",
     "output_type": "stream",
     "text": [
      "World Hello\n"
     ]
    }
   ],
   "source": [
    "# 3\n",
    "before = 'Hello World'\n",
    "after = before.split()\n",
    "print(after[1], after[0])"
   ]
  },
  {
   "cell_type": "code",
   "execution_count": 208,
   "id": "a74c20ef-bb87-47c4-bc1b-e40b805a9c57",
   "metadata": {},
   "outputs": [
    {
     "name": "stdout",
     "output_type": "stream",
     "text": [
      "bcdefa\n"
     ]
    }
   ],
   "source": [
    "# 4\n",
    "x = 'abcdef'\n",
    "print(x[1:]+x[0])"
   ]
  },
  {
   "cell_type": "code",
   "execution_count": 209,
   "id": "42e1994d-1dff-4a74-b7a4-acc8dba31d06",
   "metadata": {},
   "outputs": [
    {
     "name": "stdout",
     "output_type": "stream",
     "text": [
      "fedcba\n"
     ]
    }
   ],
   "source": [
    "# 5\n",
    "x = 'abcdef'\n",
    "print(x[::-1])"
   ]
  },
  {
   "cell_type": "code",
   "execution_count": 232,
   "id": "394fa340-53ef-485c-b096-beaa7e14656e",
   "metadata": {},
   "outputs": [
    {
     "name": "stdin",
     "output_type": "stream",
     "text": [
      "섭씨 온도를 입력하세요 12\n"
     ]
    },
    {
     "name": "stdout",
     "output_type": "stream",
     "text": [
      "53.60\n"
     ]
    }
   ],
   "source": [
    "# 6\n",
    "C = float(input('섭씨 온도를 입력하세요'))\n",
    "F = C*1.8 + 32\n",
    "if F-int(F)==0:\n",
    "    print(int(F))\n",
    "else:\n",
    "    print(f\"%.2f\"%F)"
   ]
  },
  {
   "cell_type": "code",
   "execution_count": 217,
   "id": "48b6f783-6adc-48fe-a08f-a9fd2c7788ad",
   "metadata": {},
   "outputs": [],
   "source": [
    "# 7 \n",
    "#잘못된 것\n",
    "# 1)for 2)10th 3)Student.name"
   ]
  },
  {
   "cell_type": "code",
   "execution_count": 218,
   "id": "dadaeb36-bbdd-4cde-b8f8-431fb5007493",
   "metadata": {},
   "outputs": [],
   "source": [
    "# 8 \n",
    "# 실행결과\n",
    "# SeoulnSeoul\n",
    "# Seoul n Seoul"
   ]
  },
  {
   "cell_type": "code",
   "execution_count": 221,
   "id": "1a319ded-3cd7-4a26-8cc0-a00f0a7137f2",
   "metadata": {},
   "outputs": [],
   "source": [
    "# 9\n",
    "# 잘못된 것\n",
    "# 2) 8/2"
   ]
  }
 ],
 "metadata": {
  "kernelspec": {
   "display_name": "Python 3 (ipykernel)",
   "language": "python",
   "name": "python3"
  },
  "language_info": {
   "codemirror_mode": {
    "name": "ipython",
    "version": 3
   },
   "file_extension": ".py",
   "mimetype": "text/x-python",
   "name": "python",
   "nbconvert_exporter": "python",
   "pygments_lexer": "ipython3",
   "version": "3.11.7"
  }
 },
 "nbformat": 4,
 "nbformat_minor": 5
}
