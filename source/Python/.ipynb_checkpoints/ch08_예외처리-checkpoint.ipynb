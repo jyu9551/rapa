{
 "cells": [
  {
   "cell_type": "markdown",
   "id": "0448f75c-89c0-4ff6-abdb-5838c0318905",
   "metadata": {},
   "source": [
    "# ch08 예외 처리\n",
    "    - 예외가 날 가능성이 있는 부분을 미리 예상하고 그에 대한 처리를 프로그래밍하는 것\n",
    "       (이유 : 안정적으로 실행될 수 있도록 하기 위함)"
   ]
  },
  {
   "cell_type": "markdown",
   "id": "47ce86cc-e132-444b-8343-2b62e23e8e92",
   "metadata": {},
   "source": [
    "### 1. 예외 발생\n",
    "    - 파일이 없는 경우: FileNotFoundError\n",
    "    - 정수를 0으로 나눈 경우 : ZeroDevisionError\n",
    "      ..."
   ]
  },
  {
   "cell_type": "code",
   "execution_count": 27,
   "id": "a83292e5-f5fc-4df5-8386-0a7f3bbabf3f",
   "metadata": {},
   "outputs": [
    {
     "name": "stdin",
     "output_type": "stream",
     "text": [
      "파일명을 입력하세요 ch08.txt\n"
     ]
    },
    {
     "data": {
      "text/plain": [
       "['this is test file.\\n', 'Hello python\\n', '\\n', '테스트 파일입니다.\\n', '안녕 파이썬']"
      ]
     },
     "execution_count": 27,
     "metadata": {},
     "output_type": "execute_result"
    }
   ],
   "source": [
    "# 파일이 없는 경우\n",
    "filename = input('파일명을 입력하세요')\n",
    "f = open('data/' + filename, 'r', encoding='utf-8') # encoding default = 'cp949'\n",
    "f.readlines()"
   ]
  },
  {
   "cell_type": "code",
   "execution_count": 2,
   "id": "1f35a47c-63c5-45aa-9eb6-8346b2a31b99",
   "metadata": {},
   "outputs": [],
   "source": [
    "f.close()"
   ]
  },
  {
   "cell_type": "code",
   "execution_count": 6,
   "id": "37c4abe0-2ab5-48e3-b808-f5562542ac64",
   "metadata": {},
   "outputs": [
    {
     "name": "stdin",
     "output_type": "stream",
     "text": [
      "나눌 숫자를 입력하세요 3\n"
     ]
    },
    {
     "data": {
      "text/plain": [
       "3.3333333333333335"
      ]
     },
     "execution_count": 6,
     "metadata": {},
     "output_type": "execute_result"
    }
   ],
   "source": [
    "# 정수를 0으로 나눈 경우\n",
    "num = int(input('나눌 숫자를 입력하세요'))\n",
    "10/num"
   ]
  },
  {
   "cell_type": "markdown",
   "id": "4a0071fa-61e8-42ab-91db-fc8c3bcc37c5",
   "metadata": {},
   "source": [
    "### 2. try except 구문\n",
    "     try:\n",
    "        예외 발생 가능성 있는 문장\n",
    "     except [예외타입 [as 예외객체변수명]]:\n",
    "        예외가 발생했을 때 실행할 문장"
   ]
  },
  {
   "cell_type": "code",
   "execution_count": 24,
   "id": "03bacdb4-4a6c-4a47-93ce-8f114f83111b",
   "metadata": {},
   "outputs": [
    {
     "name": "stdin",
     "output_type": "stream",
     "text": [
      "100을 나눌 정수를 입력하세요 3\n"
     ]
    },
    {
     "name": "stdout",
     "output_type": "stream",
     "text": [
      "100을 입력한 정수로 나누면 33.333333333333336입니다.\n"
     ]
    }
   ],
   "source": [
    "# 100을 입력받은 정수값으로 나누어 출력\n",
    "try: \n",
    "    x = int(input('100을 나눌 정수를 입력하세요'))\n",
    "    print(\"100을 입력한 정수로 나누면 {}입니다.\".format(100/x))\n",
    "except: \n",
    "    print(\"유효한 정수가 아닙니다.\")"
   ]
  },
  {
   "cell_type": "code",
   "execution_count": 29,
   "id": "f5b5b1c6-e085-4c32-ae4c-5f0b7de8bf8f",
   "metadata": {},
   "outputs": [
    {
     "name": "stdin",
     "output_type": "stream",
     "text": [
      "100을 나눌 정수를 입력하세요 3\n"
     ]
    },
    {
     "name": "stdout",
     "output_type": "stream",
     "text": [
      "100을 입력한 정수로 나누면 33.333333333333336입니다.\n"
     ]
    }
   ],
   "source": [
    "try: \n",
    "    x = int(input('100을 나눌 정수를 입력하세요'))\n",
    "    print(\"100을 입력한 정수로 나누면 {}입니다.\".format(100/x))\n",
    "except ValueError: \n",
    "    print(\"문자를 입력했습니다. 숫자를 입력하세요\")\n",
    "except ZeroDivisionError:\n",
    "    print(\"0이 아닌 정수를 입력하세요\")\n",
    "except (NameError, SystemError):\n",
    "    print(\"nameerror or system error\")\n",
    "except Exception:\n",
    "    print(\"알 수 없는 예외 처리\")"
   ]
  },
  {
   "cell_type": "code",
   "execution_count": 28,
   "id": "cff87464-1b1f-4cd2-b72f-67f6283bc894",
   "metadata": {},
   "outputs": [
    {
     "name": "stdin",
     "output_type": "stream",
     "text": [
      "100을 나눌 정수를 입력하세요 0\n"
     ]
    },
    {
     "name": "stdout",
     "output_type": "stream",
     "text": [
      "0이 아닌 정수를 입력하세요\n"
     ]
    },
    {
     "name": "stdin",
     "output_type": "stream",
     "text": [
      "100을 나눌 정수를 입력하세요 d\n"
     ]
    },
    {
     "name": "stdout",
     "output_type": "stream",
     "text": [
      "문자를 입력했습니다. 숫자를 입력하세요\n"
     ]
    },
    {
     "name": "stdin",
     "output_type": "stream",
     "text": [
      "100을 나눌 정수를 입력하세요 dsa\n"
     ]
    },
    {
     "name": "stdout",
     "output_type": "stream",
     "text": [
      "문자를 입력했습니다. 숫자를 입력하세요\n"
     ]
    },
    {
     "name": "stdin",
     "output_type": "stream",
     "text": [
      "100을 나눌 정수를 입력하세요 das\n"
     ]
    },
    {
     "name": "stdout",
     "output_type": "stream",
     "text": [
      "문자를 입력했습니다. 숫자를 입력하세요\n"
     ]
    },
    {
     "name": "stdin",
     "output_type": "stream",
     "text": [
      "100을 나눌 정수를 입력하세요 2\n"
     ]
    },
    {
     "name": "stdout",
     "output_type": "stream",
     "text": [
      "100을 입력한 정수로 나누면 50.0입니다.\n"
     ]
    }
   ],
   "source": [
    "while True:\n",
    "    try: \n",
    "        x = int(input('100을 나눌 정수를 입력하세요'))\n",
    "        print(\"100을 입력한 정수로 나누면 {}입니다.\".format(100/x))\n",
    "        break\n",
    "    except ValueError: \n",
    "        print(\"문자를 입력했습니다. 숫자를 입력하세요\")\n",
    "    except ZeroDivisionError:\n",
    "        print(\"0이 아닌 정수를 입력하세요\")\n",
    "    except Exception:\n",
    "        print(\"알 수 없는 예외 처리\")"
   ]
  },
  {
   "cell_type": "code",
   "execution_count": 32,
   "id": "10106e67-0b7a-4c16-822c-dfb2d0f5fc73",
   "metadata": {},
   "outputs": [
    {
     "name": "stdin",
     "output_type": "stream",
     "text": [
      "100을 나눌 정수를 입력하세요 3\n"
     ]
    },
    {
     "name": "stdout",
     "output_type": "stream",
     "text": [
      "100을 입력한 정수로 나누면 33.333333333333336입니다.\n"
     ]
    }
   ],
   "source": [
    "try: \n",
    "    x = int(input('100을 나눌 정수를 입력하세요'))\n",
    "    print(\"100을 입력한 정수로 나누면 {}입니다.\".format(100/x))\n",
    "except (ValueError, ZeroDivisionError) as e: \n",
    "    print(e)\n",
    "    print('예외 객체의 타입 :', type(e))\n",
    "    print('예외 메세지 e.args :', e.args)"
   ]
  },
  {
   "cell_type": "markdown",
   "id": "60d88a83-ea71-4893-a5b9-009791400856",
   "metadata": {},
   "source": [
    "### 3. finally, with\n",
    "    - finally는 예외가 발생되든 안되든 실행\n",
    "    - with"
   ]
  },
  {
   "cell_type": "code",
   "execution_count": 44,
   "id": "c64ba6e7-bdf4-46a6-b20b-c9ca9031dfe8",
   "metadata": {},
   "outputs": [
    {
     "name": "stdout",
     "output_type": "stream",
     "text": [
      "this is test file.\n",
      "Hello python\n",
      "\n",
      "테스트 파일입니다.\n",
      "안녕 파이썬\n"
     ]
    }
   ],
   "source": [
    "# finally절\n",
    "try:\n",
    "    f = open('data/ch08.txt', 'r', encoding='utf-8')\n",
    "    data = f.read()\n",
    "    print(data)\n",
    "except FileNotFoundError as e:\n",
    "    print(e)\n",
    "finally:\n",
    "    f.close()"
   ]
  },
  {
   "cell_type": "code",
   "execution_count": 45,
   "id": "c2cd630a-22e1-4044-8821-9cdba24067ea",
   "metadata": {},
   "outputs": [
    {
     "name": "stdout",
     "output_type": "stream",
     "text": [
      "['this is test file.\\n', 'Hello python\\n', '\\n', '테스트 파일입니다.\\n', '안녕 파이썬']\n"
     ]
    }
   ],
   "source": [
    "# with절\n",
    "with open('data/ch08.txt', 'r', encoding='utf-8') as f:\n",
    "    lines = f.readlines()\n",
    "print(lines)"
   ]
  },
  {
   "cell_type": "markdown",
   "id": "205fa84c-f2f3-438c-b26e-768265341c3e",
   "metadata": {},
   "source": [
    "### 4. raise : 강제로 예외 발생시키기"
   ]
  },
  {
   "cell_type": "code",
   "execution_count": null,
   "id": "881132d3-aba4-4d24-b06c-4d9efa0266c7",
   "metadata": {},
   "outputs": [],
   "source": [
    "raise Exception(\"예외 메세지\")"
   ]
  },
  {
   "cell_type": "code",
   "execution_count": 38,
   "id": "22070310-b78e-483c-9eef-ee1bec566933",
   "metadata": {},
   "outputs": [],
   "source": [
    "# 사용자 정의 예외 만들기\n",
    "# : 기존에 파이썬에서 제공하는 Exception 상속받아 만듦\n",
    "class LengthZeroError(Exception):\n",
    "    \"길이가 0일때 발생하는 예외\"\n",
    "    def __init__(self, message):\n",
    "        super().__init__(message)"
   ]
  },
  {
   "cell_type": "code",
   "execution_count": 39,
   "id": "1c29ddcd-2e60-4772-afda-03fa26cb3438",
   "metadata": {},
   "outputs": [
    {
     "ename": "LengthZeroError",
     "evalue": "예외 메세지",
     "output_type": "error",
     "traceback": [
      "\u001b[1;31m---------------------------------------------------------------------------\u001b[0m",
      "\u001b[1;31mLengthZeroError\u001b[0m                           Traceback (most recent call last)",
      "Cell \u001b[1;32mIn[39], line 1\u001b[0m\n\u001b[1;32m----> 1\u001b[0m \u001b[38;5;28;01mraise\u001b[39;00m LengthZeroError(\u001b[38;5;124m\"\u001b[39m\u001b[38;5;124m예외 메세지\u001b[39m\u001b[38;5;124m\"\u001b[39m)\n",
      "\u001b[1;31mLengthZeroError\u001b[0m: 예외 메세지"
     ]
    }
   ],
   "source": [
    "raise LengthZeroError(\"예외 메세지\")"
   ]
  },
  {
   "cell_type": "code",
   "execution_count": 42,
   "id": "0a541589-ddba-4012-ad7a-5cba0cf123dd",
   "metadata": {},
   "outputs": [
    {
     "name": "stdout",
     "output_type": "stream",
     "text": [
      "1 2 3 "
     ]
    },
    {
     "ename": "TypeError",
     "evalue": "LengthZeroError.__init__() missing 1 required positional argument: 'message'",
     "output_type": "error",
     "traceback": [
      "\u001b[1;31m---------------------------------------------------------------------------\u001b[0m",
      "\u001b[1;31mTypeError\u001b[0m                                 Traceback (most recent call last)",
      "Cell \u001b[1;32mIn[42], line 8\u001b[0m\n\u001b[0;32m      5\u001b[0m         \u001b[38;5;28mprint\u001b[39m(item, end\u001b[38;5;241m=\u001b[39m\u001b[38;5;124m'\u001b[39m\u001b[38;5;124m \u001b[39m\u001b[38;5;124m'\u001b[39m)\n\u001b[0;32m      7\u001b[0m insert(\u001b[38;5;241m1\u001b[39m,\u001b[38;5;241m2\u001b[39m,\u001b[38;5;241m3\u001b[39m)\n\u001b[1;32m----> 8\u001b[0m insert()\n",
      "Cell \u001b[1;32mIn[42], line 3\u001b[0m, in \u001b[0;36minsert\u001b[1;34m(*data)\u001b[0m\n\u001b[0;32m      1\u001b[0m \u001b[38;5;28;01mdef\u001b[39;00m \u001b[38;5;21minsert\u001b[39m(\u001b[38;5;241m*\u001b[39mdata): \u001b[38;5;66;03m#튜플매개변수\u001b[39;00m\n\u001b[0;32m      2\u001b[0m     \u001b[38;5;28;01mif\u001b[39;00m \u001b[38;5;28mlen\u001b[39m(data)\u001b[38;5;241m==\u001b[39m\u001b[38;5;241m0\u001b[39m:\n\u001b[1;32m----> 3\u001b[0m         \u001b[38;5;28;01mraise\u001b[39;00m LengthZeroError()\n\u001b[0;32m      4\u001b[0m     \u001b[38;5;28;01mfor\u001b[39;00m item \u001b[38;5;129;01min\u001b[39;00m data:\n\u001b[0;32m      5\u001b[0m         \u001b[38;5;28mprint\u001b[39m(item, end\u001b[38;5;241m=\u001b[39m\u001b[38;5;124m'\u001b[39m\u001b[38;5;124m \u001b[39m\u001b[38;5;124m'\u001b[39m)\n",
      "\u001b[1;31mTypeError\u001b[0m: LengthZeroError.__init__() missing 1 required positional argument: 'message'"
     ]
    }
   ],
   "source": [
    "def insert(*data): #튜플매개변수\n",
    "    if len(data)==0:\n",
    "        raise LengthZeroError()\n",
    "    for item in data:\n",
    "        print(item, end=' ')\n",
    "\n",
    "insert(1,2,3)\n",
    "insert()"
   ]
  }
 ],
 "metadata": {
  "kernelspec": {
   "display_name": "Python 3 (ipykernel)",
   "language": "python",
   "name": "python3"
  },
  "language_info": {
   "codemirror_mode": {
    "name": "ipython",
    "version": 3
   },
   "file_extension": ".py",
   "mimetype": "text/x-python",
   "name": "python",
   "nbconvert_exporter": "python",
   "pygments_lexer": "ipython3",
   "version": "3.11.7"
  }
 },
 "nbformat": 4,
 "nbformat_minor": 5
}
