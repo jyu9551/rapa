{
 "cells": [
  {
   "cell_type": "markdown",
   "id": "0cb40588-418e-4faf-b57b-881a1301fa24",
   "metadata": {},
   "source": [
    "# ch05 함수\n",
    "    - 반복해서 사용할 코드를 묶어서 구현해 놓은 것\n",
    "    - 같은 이름의 함수는 덮어씀 (오버로딩 X)"
   ]
  },
  {
   "cell_type": "markdown",
   "id": "70593107-0516-4a13-9c88-21348b54abee",
   "metadata": {},
   "source": [
    "### 1. 함수\n",
    "    - 함수 또한 변수이다\n",
    "    - default 값을 가질 수 있다\n",
    "    - \"\"\" \n",
    "          docstring\n",
    "              \n",
    "      \"\"\""
   ]
  },
  {
   "cell_type": "code",
   "execution_count": 3,
   "id": "0cc9776d-4900-4205-b344-d0df7f3ee1b0",
   "metadata": {},
   "outputs": [],
   "source": [
    "def hello(x, msg):\n",
    "    for i in range(x):\n",
    "        print(msg, end=' ')"
   ]
  },
  {
   "cell_type": "code",
   "execution_count": 10,
   "id": "8cc8d95a-2f6d-4679-b598-1580235ec8a8",
   "metadata": {},
   "outputs": [
    {
     "name": "stdout",
     "output_type": "stream",
     "text": [
      "<class 'int'>\n",
      "<class 'int'>\n"
     ]
    }
   ],
   "source": [
    "# 함수도 변수다\n",
    "print(type(hello))\n",
    "hello = 3\n",
    "print(type(hello))"
   ]
  },
  {
   "cell_type": "code",
   "execution_count": 35,
   "id": "c5a5935c-8c60-435e-a2fe-6ed4318d2c0f",
   "metadata": {},
   "outputs": [],
   "source": [
    "# 기본값을 갖는 인수는 순서인수 뒤에 나와야한다\n",
    "def adder(num1, num2, num3=0):\n",
    "    return num1+num2+num3"
   ]
  },
  {
   "cell_type": "code",
   "execution_count": 13,
   "id": "d08c4e8e-1093-4e33-b5c4-647c4fd25b0c",
   "metadata": {},
   "outputs": [
    {
     "data": {
      "text/plain": [
       "3"
      ]
     },
     "execution_count": 13,
     "metadata": {},
     "output_type": "execute_result"
    }
   ],
   "source": [
    "adder(1,2)"
   ]
  },
  {
   "cell_type": "code",
   "execution_count": 140,
   "id": "377e4e4b-151e-4952-ac0b-59808e8b648c",
   "metadata": {},
   "outputs": [
    {
     "name": "stdout",
     "output_type": "stream",
     "text": [
      "0 1 1 2 \n"
     ]
    }
   ],
   "source": [
    "# docstring\n",
    "def fibo(n):\n",
    "    \"\"\"\n",
    "    매개변수로 들어온 n값 미만의 피보나치 수열을 출력\n",
    "    입력인수는 정수\n",
    "    return X\n",
    "    \n",
    "    ex. n=5이면, 0 1 1 2 3 5\n",
    "    \"\"\"\n",
    "    a,b = 0,1\n",
    "    while a<n:\n",
    "        print(a, end=' ')\n",
    "        a, b = b, a+b\n",
    "    print(end='\\n')\n",
    "\n",
    "fibo(3)"
   ]
  },
  {
   "cell_type": "markdown",
   "id": "fc0bb497-c8d6-4234-a32b-1da328221d99",
   "metadata": {},
   "source": [
    "### 2. 함수의 특징\n",
    "    - 외부 함수 import\n",
    "    - 전역변수와 지역변수\n",
    "    - Call by Value, Call by Reference\n",
    "    - 여러 개 값 반환"
   ]
  },
  {
   "cell_type": "code",
   "execution_count": 29,
   "id": "2bb6c966-941f-4b51-8a36-352317f76d6f",
   "metadata": {},
   "outputs": [
    {
     "name": "stdout",
     "output_type": "stream",
     "text": [
      "__main__\n",
      "0 1 1 2 3 5 8 \n"
     ]
    }
   ],
   "source": [
    "print(__name__) # 현재실행위치\n",
    "\n",
    "if __name__ == '__main__':\n",
    "    fibo(10)"
   ]
  },
  {
   "cell_type": "code",
   "execution_count": 34,
   "id": "ae5a4b1d-7586-44c8-b693-5b9c1fe06b53",
   "metadata": {},
   "outputs": [
    {
     "name": "stdout",
     "output_type": "stream",
     "text": [
      "0 1 1 2 \n"
     ]
    }
   ],
   "source": [
    "import fibonacci\n",
    "fibonacci.fibonacci(3)"
   ]
  },
  {
   "cell_type": "code",
   "execution_count": 48,
   "id": "ec66e78f-eb56-435a-8e17-b6cda3b76495",
   "metadata": {},
   "outputs": [
    {
     "name": "stdout",
     "output_type": "stream",
     "text": [
      "200\n",
      "100\n"
     ]
    }
   ],
   "source": [
    "# 함수 내에서 선언부를 먼저 컴파일함\n",
    "# Lexical 특성\n",
    "\n",
    "var = 100 # 전역변수 var\n",
    "def func():\n",
    "    # print(var) -> error \n",
    "    var = 200 # 지역변수 var\n",
    "    print(var)\n",
    "\n",
    "func()\n",
    "print(var)"
   ]
  },
  {
   "cell_type": "code",
   "execution_count": 56,
   "id": "011133b1-99ee-444a-b40f-26b0d0fccffd",
   "metadata": {},
   "outputs": [
    {
     "name": "stdout",
     "output_type": "stream",
     "text": [
      "200\n",
      "200\n"
     ]
    }
   ],
   "source": [
    "# 전역변수 var의 값을 수정하고 싶으면?\n",
    "# 전역변수로 변경해야함 (global)\n",
    "\n",
    "var = 100 # 전역변수 var\n",
    "def func():\n",
    "    global var\n",
    "    var = 200 # 전역변수 var\n",
    "    print(var)\n",
    "\n",
    "func()\n",
    "print(var)"
   ]
  },
  {
   "cell_type": "code",
   "execution_count": 80,
   "id": "972369ad-741f-4965-b90b-9b8eff1f6dc1",
   "metadata": {},
   "outputs": [
    {
     "name": "stdout",
     "output_type": "stream",
     "text": [
      "1 140705525056296\n",
      "2 140705525056328\n",
      "1 140705525056296\n"
     ]
    }
   ],
   "source": [
    "# Call by value\n",
    "# 인수로 전달되는 변수가 스칼라 변수(숫자,문자,논리)일 때\n",
    "# 함수에서 값이 바뀌면 주소도 바뀜\n",
    "\n",
    "foo1 = 1\n",
    "def swap1(a):\n",
    "    print(a, id(a)) #1\n",
    "    a = 2\n",
    "    print(a, id(a)) #2\n",
    "    \n",
    "swap1(foo1)\n",
    "print(foo1 ,id(foo1)) #3"
   ]
  },
  {
   "cell_type": "code",
   "execution_count": 81,
   "id": "0c3f88bf-884a-478b-9009-25fc7bfa5a78",
   "metadata": {},
   "outputs": [
    {
     "name": "stdout",
     "output_type": "stream",
     "text": [
      "[1, 2, 3] 2114209278784\n",
      "[1, 99, 3] 2114209278784\n",
      "[1, 99, 3] 2114209278784\n"
     ]
    }
   ],
   "source": [
    "# Call by reference\n",
    "# 인수로 전달되는 변수가 스칼라 변수가 아닐 때 (리스트,딕셔너리,셋)\n",
    "\n",
    "foo2 = [1,2,3]\n",
    "def swap2(a):\n",
    "    print(a, id(a)) #1\n",
    "    a[1] = 99\n",
    "    print(a, id(a)) #2\n",
    "    \n",
    "swap2(foo2)\n",
    "print(foo2, id(foo2)) #3"
   ]
  },
  {
   "cell_type": "code",
   "execution_count": 88,
   "id": "aee59623-253a-477a-a05a-97d8dff17d57",
   "metadata": {},
   "outputs": [
    {
     "name": "stdout",
     "output_type": "stream",
     "text": [
      "3 1\n"
     ]
    }
   ],
   "source": [
    "# 여러 개 값을 반환할 수 있다 (하나의 튜플로 변환됨)\n",
    "x,y = 1,3\n",
    "def swap(a, b):\n",
    "    return b,a\n",
    "\n",
    "x,y = swap(x, y)\n",
    "print(x, y)"
   ]
  },
  {
   "cell_type": "markdown",
   "id": "3e61c947-d98e-4517-9acd-2c0dd9a5803e",
   "metadata": {},
   "source": [
    "### 3. 매개변수\n",
    "    - 1) 기본값을 갖는 인수는 순서인수 뒤에 나와야한다\n",
    "    - 2) 튜플 매개변수를 이용한 가변인수\n",
    "    - 3) 키워드 매개변수\n",
    "    - 4) 딕셔너리 매개변수\n",
    "    - 5) 딕셔너리의 순서"
   ]
  },
  {
   "cell_type": "code",
   "execution_count": 122,
   "id": "d716b5e9-b9f1-473e-bd32-cc2c6404b392",
   "metadata": {},
   "outputs": [
    {
     "data": {
      "text/plain": [
       "'http:://8090:80'"
      ]
     },
     "execution_count": 122,
     "metadata": {},
     "output_type": "execute_result"
    }
   ],
   "source": [
    "# 1)\n",
    "def make_url(ip, port=80):\n",
    "    return \"http:://{}:{}\".format(ip,port)\n",
    "\n",
    "make_url(8090)"
   ]
  },
  {
   "cell_type": "code",
   "execution_count": 123,
   "id": "a02e181c-9024-472d-83e8-1fc529286d46",
   "metadata": {},
   "outputs": [
    {
     "name": "stdout",
     "output_type": "stream",
     "text": [
      "(3, 4, 5) <class 'tuple'>\n",
      "12\n"
     ]
    }
   ],
   "source": [
    "# 2) 튜플 매개변수 *args를 이용한 가변인수\n",
    "# args 앞에 * : args가 튜플로 전달\n",
    "\n",
    "def add(*args):\n",
    "    print(args, type(args))\n",
    "    sum = 0\n",
    "    for num in args:\n",
    "        sum += num;\n",
    "    return sum\n",
    "\n",
    "print(add(3,4,5))"
   ]
  },
  {
   "cell_type": "code",
   "execution_count": 141,
   "id": "7df97c2b-7d88-4b5a-bc11-3c79049acb95",
   "metadata": {},
   "outputs": [
    {
     "name": "stdout",
     "output_type": "stream",
     "text": [
      "C~Python~Oracle\n",
      "C~Python~Oracle\n",
      "C~Python~Oracle\n"
     ]
    }
   ],
   "source": [
    "# 3) 키워드 매개변수\n",
    "''' [concat() 기능]\n",
    "concat(\"C\", \"Python\", \"Oracle\", \"~\")\n",
    "=> C~Python~Oracle\n",
    "'''\n",
    "\n",
    "# sol 1)\n",
    "def concat(*args, sep):\n",
    "    return sep.join(args)\n",
    "print(concat(\"C\", \"Python\", \"Oracle\", sep=\"~\"))\n",
    "\n",
    "# sol 2) 좋은 solution\n",
    "def concat(sep, *args):\n",
    "    return sep.join(args)\n",
    "print(concat(\"~\", \"C\", \"Python\", \"Oracle\"))\n",
    "\n",
    "# sol 3) 가장 좋은 solution\n",
    "# sep은 키워드인수 (꼭 넣어야하는 기본값을 갖는 인수)\n",
    "# like print()의 end, sep은 키워드인수\n",
    "def concat(*args, sep='/'):\n",
    "    return sep.join(args)\n",
    "print(concat(\"C\", \"Python\", \"Oracle\", sep=\"~\"))"
   ]
  },
  {
   "cell_type": "code",
   "execution_count": 142,
   "id": "dc215e91-4d4f-4202-aa70-b0aa88bfdc0d",
   "metadata": {},
   "outputs": [],
   "source": [
    "# 4) 딕셔너리 매개변수\n",
    "def func(**args):\n",
    "    print(args)\n",
    "    print(type(args))"
   ]
  },
  {
   "cell_type": "code",
   "execution_count": 139,
   "id": "e30328f5-70c2-4c83-a2d4-7a6bf9311c35",
   "metadata": {},
   "outputs": [
    {
     "name": "stdout",
     "output_type": "stream",
     "text": [
      "{'name': '홍길동', 'age': 20}\n",
      "<class 'dict'>\n",
      "{'gamename': '서바이벌C', 'year': 2024}\n",
      "<class 'dict'>\n"
     ]
    }
   ],
   "source": [
    "func(name='홍길동', age=20)\n",
    "func(gamename='서바이벌C', year=2024)"
   ]
  },
  {
   "cell_type": "code",
   "execution_count": 143,
   "id": "bfd6bfdd-fd5a-45ab-83a4-7214c32e89c2",
   "metadata": {},
   "outputs": [
    {
     "name": "stdout",
     "output_type": "stream",
     "text": [
      "1 2 3 (4, 5, 6) 6 {'height': 170, 'name': '홍길동'}\n"
     ]
    }
   ],
   "source": [
    "# 5) 매개변수의 순서\n",
    "# 순서인수 > 튜플인수(*) > 키워드인수 > 딕셔너리인수(**)\n",
    "def func(a,b,c,*d, e=10, **f):\n",
    "    print(a,b,c,d,e,f)\n",
    "\n",
    "func(1,2,3, 4,5,6, e=6, height=170, name=\"홍길동\")"
   ]
  },
  {
   "cell_type": "code",
   "execution_count": 151,
   "id": "b8b02be9-19bc-4eb8-98cd-fdbc2c35ffca",
   "metadata": {},
   "outputs": [
    {
     "name": "stdout",
     "output_type": "stream",
     "text": [
      "튜플 매개변수 : (1, 2, 3)\n",
      "튜플 인수 언패킹 : (1, 2, 3)\n",
      "딕셔너리 매개변수 : {'name': 'jennie', 'age': 24}\n",
      "딕셔너리 인수 언패킹 : {'name': 'jannie', 'age': 24}\n"
     ]
    }
   ],
   "source": [
    "# 6) 인수의 언패킹\n",
    "#    - 튜플 인수 언패킹\n",
    "#    - 딕셔너리 인수 언패킹\n",
    "def func(*args):\n",
    "    print(args)\n",
    "def func2(**args):\n",
    "    print(args)\n",
    "\n",
    "# 튜플 매개변수\n",
    "print('튜플 매개변수 :', end=' ')\n",
    "func(1,2,3)\n",
    "# 튜플 인수 언패킹\n",
    "print('튜플 인수 언패킹 :', end=' ')\n",
    "data = (1,2,3)\n",
    "# func(data) X\n",
    "func(*data)\n",
    "\n",
    "# 딕셔너리 매개변수\n",
    "print('딕셔너리 매개변수 :', end=' ')\n",
    "func2(name=\"jennie\", age=24)\n",
    "# 딕셔너리 인수 언패킹\n",
    "print('딕셔너리 인수 언패킹 :', end=' ')\n",
    "data = {'name':'jannie', 'age':24}\n",
    "# func2(data) X\n",
    "func2(**data)"
   ]
  },
  {
   "cell_type": "markdown",
   "id": "f5da6e63-b96d-4e67-b353-b5e647381879",
   "metadata": {},
   "source": [
    "### 3. 람다식\n",
    "    - 람다식은 작은 익명함수를 의미함\n",
    "    - 실행할 문장을 한 문장만 작성할 수 있음\n",
    "    - 리스트 컴프리헨션과 같이 참조해서 학습 추천\n",
    "    - map(), filter() 함수의 매개변수에 람다식 사용"
   ]
  },
  {
   "cell_type": "code",
   "execution_count": 157,
   "id": "353918cd-f815-49e1-9456-48757beddec6",
   "metadata": {},
   "outputs": [
    {
     "name": "stdout",
     "output_type": "stream",
     "text": [
      "8\n",
      "4\n"
     ]
    },
    {
     "data": {
      "text/plain": [
       "8"
      ]
     },
     "execution_count": 157,
     "metadata": {},
     "output_type": "execute_result"
    }
   ],
   "source": [
    "# 일반함수\n",
    "def add(a,b):\n",
    "    return a+b\n",
    "print(add(3,5))\n",
    "\n",
    "# 람다식 1\n",
    "adder = lambda a, b : a+b\n",
    "print(adder(1,3))\n",
    "\n",
    "# 람다식 2\n",
    "(lambda a,b : a+b)(3,5)"
   ]
  },
  {
   "cell_type": "code",
   "execution_count": 204,
   "id": "7bb63703-4b31-478c-9f90-3e62adef074c",
   "metadata": {},
   "outputs": [
    {
     "name": "stdout",
     "output_type": "stream",
     "text": [
      "sol 1 : [1, 4, 9]\n",
      "sol 2 : [1, 4, 9]\n",
      "sol 3 : [1, 4, 9]\n"
     ]
    }
   ],
   "source": [
    "# 람다식을 map 함수의 매개변수에 사용\n",
    "l = [1,2,3]\n",
    "pow2 = lambda x:x**2\n",
    "\n",
    "def map_tmp1(func, L=[]):\n",
    "    result = []\n",
    "    for data in L:\n",
    "        result.append(func(data))\n",
    "    return result\n",
    "       \n",
    "print('sol 1 :', map_tmp1(pow2, l)) # sol 1\n",
    "print('sol 2 :', map_tmp1(lambda x:x**2, l)) # sol 2\n",
    "\n",
    "# sol 3\n",
    "def map_tmp2(L=[]):\n",
    "    result = []\n",
    "    for data in L:\n",
    "        result.append(pow2(data))\n",
    "    return result\n",
    "\n",
    "print('sol 3 :', map_tmp2(l))"
   ]
  },
  {
   "cell_type": "code",
   "execution_count": 207,
   "id": "c81896ca-00cc-4e6a-a8fb-a58d5d4d73a2",
   "metadata": {},
   "outputs": [
    {
     "name": "stdout",
     "output_type": "stream",
     "text": [
      "map() 사용 : [2, 4, 6]\n",
      "리스트 컴프리헨션 사용 : [2, 4, 6]\n"
     ]
    }
   ],
   "source": [
    "# map 함수\n",
    "print('map() 사용 :', list(map(lambda x:x*2, l)))\n",
    "\n",
    "# 리스트 컴프리헨션 사용? 가능\n",
    "print('리스트 컴프리헨션 사용 :', [x*2 for x in l])"
   ]
  },
  {
   "cell_type": "code",
   "execution_count": 209,
   "id": "a1c85126-9877-489d-92ba-012ee39e9371",
   "metadata": {},
   "outputs": [
    {
     "data": {
      "text/plain": [
       "[2, 4, 6, 8, 10]"
      ]
     },
     "execution_count": 209,
     "metadata": {},
     "output_type": "execute_result"
    }
   ],
   "source": [
    "# 람다식을 filter 함수의 매개변수에 사용\n",
    "l = [1,2,3,4,5,6,7,8,9,10]\n",
    "def filter_tmp(func, L=[]):\n",
    "    result = []\n",
    "    for data in L:\n",
    "        if func(data):\n",
    "            result.append(data)\n",
    "    return result\n",
    "\n",
    "filter_tmp(lambda x:x%2==0, l)"
   ]
  },
  {
   "cell_type": "code",
   "execution_count": 210,
   "id": "30c4ed3d-1de0-4654-83d2-a6f730963033",
   "metadata": {},
   "outputs": [
    {
     "name": "stdout",
     "output_type": "stream",
     "text": [
      "filter() 사용 : [2, 4, 6, 8, 10]\n",
      "리스트 컴프리헨션 사용 [2, 4, 6, 8, 10]\n"
     ]
    }
   ],
   "source": [
    "# filter 함수\n",
    "print('filter() 사용 :', list(filter(lambda x:x%2==0, l)))\n",
    "\n",
    "# 리스트 컴프리헨션 사용? 가능\n",
    "print('리스트 컴프리헨션 사용', [x for x in l if x%2==0])"
   ]
  },
  {
   "cell_type": "markdown",
   "id": "9124c306-149f-4c28-a025-b771bbc55d7a",
   "metadata": {},
   "source": [
    "### 4. 연습문제"
   ]
  },
  {
   "cell_type": "code",
   "execution_count": 276,
   "id": "ea232a23-cbc4-426c-9029-b49441e61513",
   "metadata": {},
   "outputs": [
    {
     "data": {
      "text/plain": [
       "[1, 2, '짝', 4, 5, '짝', 7, 8, '짝', '짝', 20, '짝짝']"
      ]
     },
     "execution_count": 276,
     "metadata": {},
     "output_type": "execute_result"
    }
   ],
   "source": [
    "def game_369(L=[]):\n",
    "    result = []\n",
    "    \n",
    "    for i in L:\n",
    "        flag = 0\n",
    "        str_L = str(i)\n",
    "        \n",
    "        tmp = ''\n",
    "        for j in range(len( str_L )):\n",
    "            if ((str_L[j]=='3') | (str_L[j]=='6') | (str_L[j]=='9')): \n",
    "                tmp += '짝'\n",
    "        \n",
    "        if tmp=='':\n",
    "            result.append(i)\n",
    "        else :\n",
    "            result.append(tmp)    \n",
    "        \n",
    "    return result\n",
    "    \n",
    "game_369([1,2,3,4,5,6,7,8,9,13,20,33])"
   ]
  },
  {
   "cell_type": "code",
   "execution_count": null,
   "id": "aca193f8-6ad9-4658-9a87-a8fb2ce35ecc",
   "metadata": {},
   "outputs": [],
   "source": []
  }
 ],
 "metadata": {
  "kernelspec": {
   "display_name": "Python 3 (ipykernel)",
   "language": "python",
   "name": "python3"
  },
  "language_info": {
   "codemirror_mode": {
    "name": "ipython",
    "version": 3
   },
   "file_extension": ".py",
   "mimetype": "text/x-python",
   "name": "python",
   "nbconvert_exporter": "python",
   "pygments_lexer": "ipython3",
   "version": "3.11.7"
  }
 },
 "nbformat": 4,
 "nbformat_minor": 5
}
