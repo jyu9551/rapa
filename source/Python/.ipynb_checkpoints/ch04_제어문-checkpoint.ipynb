{
 "cells": [
  {
   "cell_type": "markdown",
   "id": "482b123c-7001-4557-a2de-1f24b0e31a03",
   "metadata": {},
   "source": [
    "# ch04 제어문\n",
    "    - 조건문 : if문\n",
    "    - 반복문 : for-in문\n",
    "               while문"
   ]
  },
  {
   "cell_type": "markdown",
   "id": "86613dbb-6799-48d4-b14a-ef9802357b32",
   "metadata": {},
   "source": [
    "### 1. if 문"
   ]
  },
  {
   "cell_type": "code",
   "execution_count": 4,
   "id": "ebfc0b77-e771-4089-bb64-ebc90f98af8e",
   "metadata": {},
   "outputs": [
    {
     "name": "stdin",
     "output_type": "stream",
     "text": [
      "Enter your number >>  45\n"
     ]
    },
    {
     "name": "stdout",
     "output_type": "stream",
     "text": [
      "C\n"
     ]
    }
   ],
   "source": [
    "score = int(input('Enter your number >> '))\n",
    "if 80<=score<=100:\n",
    "    grade = 'A'\n",
    "elif 60<=score<=80:\n",
    "    grade = 'B'\n",
    "elif 40<=score<=60:\n",
    "    grade = 'C'\n",
    "elif 20<=score<=40:\n",
    "    grade = 'D'\n",
    "elif 0<=score<=20:\n",
    "    grade = 'E'\n",
    "else:\n",
    "    grade = '유효하지 않음'\n",
    "\n",
    "print(grade)"
   ]
  },
  {
   "cell_type": "markdown",
   "id": "c874d3d8-2c3d-4ff6-9488-da245be40e44",
   "metadata": {},
   "source": [
    "### 2. for-in문\n",
    "      for 변수 in 나열이가능한자료형:\n",
    "          반복할 문장1\n",
    "          반복할 문장2\n",
    "      else:\n",
    "          변수에 값이 할당되지 않은 경우 한번 실행\n",
    "          for문 안에 break가 있을 경우 else 수행되지 않음\n"
   ]
  },
  {
   "cell_type": "code",
   "execution_count": 24,
   "id": "c2f38f12-7bed-4d76-b635-5bc2877ab430",
   "metadata": {},
   "outputs": [
    {
     "name": "stdout",
     "output_type": "stream",
     "text": [
      "1부터 100까지 짝수의 합은? 2500\n"
     ]
    }
   ],
   "source": [
    "sum = 0\n",
    "for i in range(1,101,2):\n",
    "    sum += i\n",
    "print('1부터 100까지 짝수의 합은?', sum)"
   ]
  },
  {
   "cell_type": "markdown",
   "id": "95ef9ade-573a-42c4-872f-7667124684bb",
   "metadata": {},
   "source": [
    "### 3. while문\n",
    "    while 조건:\n",
    "        반복문장1\n",
    "        반복문장2\n",
    "    else:\n",
    "        조건이 거짓일 경우 힌번 수행\n",
    "        while문 안에 break가 있을 경우 else 수행되지 않음"
   ]
  },
  {
   "cell_type": "code",
   "execution_count": 42,
   "id": "aaa1a6ae-dfb2-41bf-abb9-7766f3f8c45f",
   "metadata": {},
   "outputs": [
    {
     "name": "stdin",
     "output_type": "stream",
     "text": [
      "두 수를 입력하세요.  3 10\n"
     ]
    },
    {
     "name": "stdout",
     "output_type": "stream",
     "text": [
      "in1과 in2 사이의 홀수의 합은? 24\n"
     ]
    }
   ],
   "source": [
    "in1, in2 = input('두 수를 입력하세요. ').split()\n",
    "sum = 0\n",
    "i = int(in1)\n",
    "while i<=int(in2):\n",
    "    if i%2==1:\n",
    "        sum += i\n",
    "    i += 1\n",
    "\n",
    "print('in1과 in2 사이의 홀수의 합은?', sum)"
   ]
  },
  {
   "cell_type": "markdown",
   "id": "248aa8be-95ed-4d0a-b952-860eb058a006",
   "metadata": {},
   "source": [
    "### 4. Break, Continue문"
   ]
  },
  {
   "cell_type": "code",
   "execution_count": 44,
   "id": "97749a20-c9e3-4e29-87c9-f17b12ca0448",
   "metadata": {},
   "outputs": [
    {
     "name": "stdout",
     "output_type": "stream",
     "text": [
      "1 2 "
     ]
    }
   ],
   "source": [
    "num = 0\n",
    "while num<=10:\n",
    "    num+=1\n",
    "    if num==3:\n",
    "        break\n",
    "    print(num, end=' ')"
   ]
  },
  {
   "cell_type": "code",
   "execution_count": 43,
   "id": "932a7e5b-6a4a-4211-9b77-33ff011315d9",
   "metadata": {},
   "outputs": [
    {
     "name": "stdout",
     "output_type": "stream",
     "text": [
      "1 2 4 5 6 7 8 9 10 11 "
     ]
    }
   ],
   "source": [
    "num = 0\n",
    "while num<=10:\n",
    "    num+=1\n",
    "    if num==3:\n",
    "        continue\n",
    "    print(num, end=' ')"
   ]
  },
  {
   "cell_type": "markdown",
   "id": "7f43c2e8-46cb-4d59-9686-c8a2c8b043fe",
   "metadata": {},
   "source": [
    "### 5. 연습문제\n",
    "    - 랜덤값 : random.randint(start, end)\n",
    "               random.seed(n) 같은 n일 때, 같은 랜덤값"
   ]
  },
  {
   "cell_type": "code",
   "execution_count": 52,
   "id": "a7f4b8f0-4ebf-4202-b988-abbd346c2a95",
   "metadata": {},
   "outputs": [
    {
     "name": "stdout",
     "output_type": "stream",
     "text": [
      "84\n",
      "7\n",
      "10\n"
     ]
    }
   ],
   "source": [
    "import random\n",
    "\n",
    "print(random.randint(1,100))\n",
    "print(random.randint(1,100))\n",
    "print(random.randint(1,100))"
   ]
  },
  {
   "cell_type": "code",
   "execution_count": 93,
   "id": "6e447a00-7ad6-422a-9003-81f748b0bc0e",
   "metadata": {},
   "outputs": [
    {
     "name": "stdout",
     "output_type": "stream",
     "text": [
      "정답 = 17\n",
      "1번째 기회) 1 와 100 사이의 값을 맞추세요\n"
     ]
    },
    {
     "name": "stdin",
     "output_type": "stream",
     "text": [
      ">>  17\n"
     ]
    },
    {
     "name": "stdout",
     "output_type": "stream",
     "text": [
      "1번만에 정답입니다\n"
     ]
    }
   ],
   "source": [
    "# 1번\n",
    "ans = random.randint(1,101)\n",
    "low = 1\n",
    "high = 100\n",
    "print('정답 =', ans)\n",
    "for i in range(1,6):\n",
    "    print(str(i) + '번째 기회)', low, '와', high, '사이의 값을 맞추세요')\n",
    "    inp = int(input('>> '))    \n",
    "    if inp==ans:\n",
    "        print(str(i)+'번만에 정답입니다')\n",
    "        break\n",
    "    elif (inp>=high) | (inp<=low):\n",
    "        print('주어진 범위 내의 수를 입력하세요')\n",
    "    else:\n",
    "        if inp>ans:\n",
    "            print('DOWN')\n",
    "            high = inp\n",
    "        else:\n",
    "            print('UP')\n",
    "            low = inp\n",
    "else: \n",
    "    print('주어진 기회를 모두 썼습니다.')"
   ]
  },
  {
   "cell_type": "code",
   "execution_count": 99,
   "id": "31fb348a-58b4-4870-a83f-ff4e9bbba0b5",
   "metadata": {},
   "outputs": [
    {
     "name": "stdout",
     "output_type": "stream",
     "text": [
      "로또번호 추출 : [10, 24, 27, 35, 37, 40]\n"
     ]
    }
   ],
   "source": [
    "# 2번\n",
    "rand = set()\n",
    "while(len(rand) != 6):\n",
    "    rand.add(random.randint(1,46))\n",
    "rand = list(rand)\n",
    "rand.sort()\n",
    "\n",
    "print('로또번호 추출 :', rand)"
   ]
  },
  {
   "cell_type": "code",
   "execution_count": null,
   "id": "cb8dd27a-64ec-43ba-a9e7-5882e9214033",
   "metadata": {},
   "outputs": [],
   "source": []
  }
 ],
 "metadata": {
  "kernelspec": {
   "display_name": "Python 3 (ipykernel)",
   "language": "python",
   "name": "python3"
  },
  "language_info": {
   "codemirror_mode": {
    "name": "ipython",
    "version": 3
   },
   "file_extension": ".py",
   "mimetype": "text/x-python",
   "name": "python",
   "nbconvert_exporter": "python",
   "pygments_lexer": "ipython3",
   "version": "3.11.7"
  }
 },
 "nbformat": 4,
 "nbformat_minor": 5
}
