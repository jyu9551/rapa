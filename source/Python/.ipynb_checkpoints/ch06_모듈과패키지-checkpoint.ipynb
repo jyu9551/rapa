{
 "cells": [
  {
   "cell_type": "markdown",
   "id": "64e3ffb2-48d6-44a2-a5d1-c0cc5b313ddb",
   "metadata": {},
   "source": [
    "# ch06 모듈과 패키지\n",
    "    - C:\\c_python\\source\\pylib 경로의 fibonacci.py 부르기\n",
    "    "
   ]
  },
  {
   "cell_type": "markdown",
   "id": "8ac42af2-a2bf-4118-a553-b6f8047cfa2c",
   "metadata": {},
   "source": [
    "### 1. 모듈 사용하기\n",
    "    - 함수, 변수, 클래스가 담긴 .py 파일\n",
    "    - 파이썬 표준 모듈 200여개 사용 가능\n",
    "    - 표준 외의 모듈은 pip install [module name]으로 라이브러리 설치\n",
    "         ex)   pip install ~~\n",
    "               conda install ~~\n",
    "    - 사용자 정의 모듈은 1)표준모듈 혹은 2)sys.path에 저장된 경로"
   ]
  },
  {
   "cell_type": "code",
   "execution_count": 23,
   "id": "4084d8ae-9344-4f03-b9e8-763a8708bf37",
   "metadata": {},
   "outputs": [],
   "source": [
    "# 사용자 정의 모듈 - sys.path\n",
    "import sys\n",
    "sys.path.append('C:/c_python/source/pylib')"
   ]
  },
  {
   "cell_type": "markdown",
   "id": "5aef0c6d-b86a-4bfd-bbca-47ca152f7410",
   "metadata": {},
   "source": [
    "```\n",
    "방법 1. import A               : A모듈을 가져옴\n",
    "방법 2. import A as B          : A모듈을 B이름으로 가져옴\n",
    "방법 3. from A import B        : A모듈 안에 B함수를 가져옴\n",
    "방법 4. from A import B as C   : A모듈 안에 B함수를 C이름으로 가져옴\n",
    "방법 5. from A.B import C      : A폴더의 B모듈 안에 C함수를 가져옴\n",
    "방법 6. from A.B import C as D : A폴더의 B모듈 안에 C함수를 D이름으로 가져옴\n",
    "```"
   ]
  },
  {
   "cell_type": "code",
   "execution_count": 22,
   "id": "70a60e33-6ac6-444e-a486-61e82ab8b23a",
   "metadata": {},
   "outputs": [
    {
     "name": "stdout",
     "output_type": "stream",
     "text": [
      "0 1 1 2 3 \n",
      "0 1 1 2 3 \n",
      "0 1 1 2 3 \n"
     ]
    }
   ],
   "source": [
    "import fibonacci\n",
    "fibonacci.fibonacci(5)\n",
    "del(fibonacci)\n",
    "\n",
    "from fibonacci import fibonacci\n",
    "fibonacci(5)\n",
    "del(fibonacci)\n",
    "\n",
    "from lib.fibonacci import fibonacci\n",
    "fibonacci(5)"
   ]
  },
  {
   "cell_type": "code",
   "execution_count": 3,
   "id": "b761a00e-e1de-45ba-a5ff-9f2f98be288b",
   "metadata": {},
   "outputs": [],
   "source": []
  }
 ],
 "metadata": {
  "kernelspec": {
   "display_name": "Python 3 (ipykernel)",
   "language": "python",
   "name": "python3"
  },
  "language_info": {
   "codemirror_mode": {
    "name": "ipython",
    "version": 3
   },
   "file_extension": ".py",
   "mimetype": "text/x-python",
   "name": "python",
   "nbconvert_exporter": "python",
   "pygments_lexer": "ipython3",
   "version": "3.11.7"
  }
 },
 "nbformat": 4,
 "nbformat_minor": 5
}
