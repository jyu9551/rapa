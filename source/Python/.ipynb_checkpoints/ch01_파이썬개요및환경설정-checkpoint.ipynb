{
 "cells": [
  {
   "cell_type": "markdown",
   "id": "e192d2b2-ecd4-4b8a-94f9-61c64783b363",
   "metadata": {},
   "source": [
    "# ch01 파이썬 개요 및 환경설정"
   ]
  },
  {
   "cell_type": "markdown",
   "id": "b601589e-8098-4e25-82a1-6cf9202e29db",
   "metadata": {},
   "source": [
    "### 1. 주피터 노트북 사용법\n",
    "    - Shift + Enter : 셀 실행"
   ]
  },
  {
   "cell_type": "code",
   "execution_count": 6,
   "id": "846ad714-adb6-4e46-95d8-d7495c5edb46",
   "metadata": {},
   "outputs": [
    {
     "name": "stdout",
     "output_type": "stream",
     "text": [
      "Hello\n"
     ]
    }
   ],
   "source": [
    "print('Hello')"
   ]
  },
  {
   "cell_type": "code",
   "execution_count": 8,
   "id": "e49b897e-6679-47c0-a0ef-3cd412a160d2",
   "metadata": {},
   "outputs": [
    {
     "data": {
      "text/plain": [
       "3"
      ]
     },
     "execution_count": 8,
     "metadata": {},
     "output_type": "execute_result"
    }
   ],
   "source": [
    "1 + int('2')"
   ]
  },
  {
   "cell_type": "code",
   "execution_count": 17,
   "id": "ef68df83-e1f7-406f-b7db-4c34ac677457",
   "metadata": {},
   "outputs": [
    {
     "name": "stdout",
     "output_type": "stream",
     "text": [
      "1 2 3 4 5 "
     ]
    }
   ],
   "source": [
    "for i in range(1,6):\n",
    "    print(i, end=' ')"
   ]
  },
  {
   "cell_type": "markdown",
   "id": "70f17f90-9a57-4927-8b92-9db557272727",
   "metadata": {},
   "source": [
    "\n",
    "\n",
    "### 2. ESC 핫 키\n",
    "    - dd : 셀 삭제\n",
    "    - a : 윗셀 추가\n",
    "    - b : 아랫셀 추가\n",
    "    - m : 마크다운 셀 전환\n",
    "    - y : 코드 셀 전환"
   ]
  },
  {
   "cell_type": "markdown",
   "id": "8130f77f-bf69-463a-b45e-e7ea471b5203",
   "metadata": {},
   "source": [
    "### 3. 마크다운이란?\n",
    "    - 코드와 함께 문서화할 수 있다.\n",
    "    - ```(tilde) 을 사용해 여러 줄 설명할 수 있다.\n",
    "    "
   ]
  },
  {
   "cell_type": "markdown",
   "id": "c2d3d9da-e5ce-4a02-98c0-26181f71fa10",
   "metadata": {},
   "source": [
    "### 4. Table of Contents\n",
    "    - View-Table of Contents \n",
    "    - ! 뒤에 cmd 명령어 사용 가능"
   ]
  }
 ],
 "metadata": {
  "kernelspec": {
   "display_name": "Python 3 (ipykernel)",
   "language": "python",
   "name": "python3"
  },
  "language_info": {
   "codemirror_mode": {
    "name": "ipython",
    "version": 3
   },
   "file_extension": ".py",
   "mimetype": "text/x-python",
   "name": "python",
   "nbconvert_exporter": "python",
   "pygments_lexer": "ipython3",
   "version": "3.11.7"
  }
 },
 "nbformat": 4,
 "nbformat_minor": 5
}
