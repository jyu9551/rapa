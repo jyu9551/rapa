{
 "cells": [
  {
   "cell_type": "markdown",
   "id": "ccc46fd6-35da-4154-b8b7-3e182949b887",
   "metadata": {},
   "source": [
    "# ch03 데이터 구조\n",
    "  리스트 [ ], 튜플 ( ), 딕셔너리 { }, 셋 ( )"
   ]
  },
  {
   "cell_type": "markdown",
   "id": "69090824-a6bd-46a2-a9e5-093cde204343",
   "metadata": {},
   "source": [
    "### 1. 리스트\n",
    "    - c언어 배열과 유사\n",
    "    - [] 사용\n",
    "    - 인덱스로 접근\n",
    "    - 슬라이싱 지원"
   ]
  },
  {
   "cell_type": "code",
   "execution_count": 83,
   "id": "dcf31d3e-a576-4885-b3f8-34f0e0127f4b",
   "metadata": {},
   "outputs": [
    {
     "name": "stdout",
     "output_type": "stream",
     "text": [
      "<class 'list'> <class 'str'> <class 'int'>\n",
      "['mango', 'apple', 'orange', 'grape']\n",
      "mango\n",
      "apple\n",
      "orange\n",
      "grape\n",
      "0 mango\n",
      "1 apple\n",
      "2 orange\n",
      "3 grape\n",
      "0 mango\n",
      "1 apple\n",
      "2 orange\n",
      "3 grape\n"
     ]
    }
   ],
   "source": [
    "# 여러 자료형 저장\n",
    "fruits = ['banana', 'apple', 'orange', 'grape', 0, 99]\n",
    "print(type(fruits), type(fruits[0]), type(fruits[-1]))\n",
    "del(fruits[-2:])\n",
    "\n",
    "# 수정\n",
    "fruits[0] = 'mango'\n",
    "print(fruits)\n",
    "\n",
    "# 출력\n",
    "for i in fruits:\n",
    "    print(i)\n",
    "\n",
    "# 출력\n",
    "for i in range(len(fruits)):\n",
    "    print(i, fruits[i])\n",
    "\n",
    "# 출력\n",
    "for i, value in enumerate(fruits):\n",
    "    print(i, value)"
   ]
  },
  {
   "cell_type": "code",
   "execution_count": 55,
   "id": "ba4221fd-e0e1-4d47-ae3a-8583a7585320",
   "metadata": {},
   "outputs": [
    {
     "name": "stdout",
     "output_type": "stream",
     "text": [
      "len =  3\n",
      "max =  3\n",
      "min =  1\n",
      "[1, 2, 3, 4]\n",
      "[1, 2, 3, 4, 1, 2, 3, 4]\n",
      "[1, 2, 3, 4, 1, 2, 3, 4, 1, 2, 3, 4]\n"
     ]
    }
   ],
   "source": [
    "# 리스트 함수\n",
    "num = [1,2,3]\n",
    "print(\"len = \", len(num))\n",
    "print(\"max = \", max(num)); print(\"min = \", min(num))\n",
    "num.append(4); print(num)\n",
    "print(num + num)\n",
    "print(num * 3)"
   ]
  },
  {
   "cell_type": "code",
   "execution_count": 67,
   "id": "31f87c6b-a211-4c2f-9db2-3d4884e007ad",
   "metadata": {},
   "outputs": [
    {
     "name": "stdout",
     "output_type": "stream",
     "text": [
      "[1, 2, 3, 4, [5, 6]]\n",
      "[1, 2, 3, 4, [5, 6], 'h', 'e', 'l', 'l', 'o']\n"
     ]
    }
   ],
   "source": [
    "n1 = [1,2,3,4]; n2 = [5,6]\n",
    "n1.append(n2)\n",
    "print(n1)\n",
    "\n",
    "n1 += 'hello'\n",
    "print(n1)"
   ]
  },
  {
   "cell_type": "code",
   "execution_count": 81,
   "id": "0e17d363-1cd3-495a-933f-02dc268c6aa2",
   "metadata": {},
   "outputs": [
    {
     "name": "stdout",
     "output_type": "stream",
     "text": [
      "1\n",
      "2\n"
     ]
    }
   ],
   "source": [
    "num = [1,2,3,2,1]\n",
    "# index() : 0번 인덱스부터 2를 찾아서 인덱스 반환\n",
    "try:\n",
    "    print(num.index(2, 0))\n",
    "except:\n",
    "    print('해당 값이 없습니다')\n",
    "\n",
    "# count() : 2의 개수 반환\n",
    "print(num.count(2))"
   ]
  },
  {
   "cell_type": "code",
   "execution_count": 94,
   "id": "cea52d04-18b9-4ecb-ac03-b6c6bb3b3d1c",
   "metadata": {},
   "outputs": [
    {
     "name": "stdout",
     "output_type": "stream",
     "text": [
      "[1, 5, 10, 13, 19]\n",
      "[10, 12, 18, 20]\n",
      "[1, 9, 25]\n",
      "길이가 5이상인 fruit : ['orange', 'mango']\n",
      "fruits의 길이들 : [6, 5, 4]\n"
     ]
    }
   ],
   "source": [
    "num1 = [1,3,5,9,10,12,13,18,19,20]\n",
    "num2 = [1,3,5]\n",
    "fruits = ['orange', 'mango', 'kiwi']\n",
    "\n",
    "# 슬라이싱 : 원하는 인덱스의 값만 가져옴\n",
    "print(num1[::2])\n",
    "\n",
    "# 컴프리헨션 : 원하는 값만 가져옴\n",
    "print([i for i in num1 if i%2==0])\n",
    "print([i**2 for i in num2])\n",
    "print(\"길이가 5이상인 fruits :\", [long_fruit for long_fruit in fruits if len(long_fruit)>=5])\n",
    "print(\"fruits의 길이들 :\", [len(long_fruit) for long_fruit in fruits])"
   ]
  },
  {
   "cell_type": "code",
   "execution_count": 114,
   "id": "346ce74f-6af1-47b5-9e54-b68608167724",
   "metadata": {},
   "outputs": [
    {
     "name": "stdout",
     "output_type": "stream",
     "text": [
      "[5, 4, 2, 1]\n",
      "[4, 2, 1]\n",
      "1 is poped, num is [4, 2]\n",
      "[20, 19, 18, 13, 12, 10, 9, 5, 3, 1]\n",
      "[3, 1, 2] [6, 1, 2]\n"
     ]
    }
   ],
   "source": [
    "# 삭제 : del(), renove(), pop()\n",
    "try:\n",
    "    num = [5,4,3,2,1]\n",
    "    del(num[2]); print(num)\n",
    "    num.remove(5); print(num)\n",
    "    print(num.pop(), \"is poped, num is\", num)\n",
    "except:\n",
    "    print('except')\n",
    "\n",
    "# 정렬\n",
    "num1 = [1,3,5,9,10,12,13,18,19,20]\n",
    "num1.sort(reverse=True); print(num1)\n",
    "\n",
    "# 복제 : 핟당연산자, copy()\n",
    "numbers = [6,1,2]\n",
    "new1 = numbers  # 얕은 복사 (numbers와 new1은 같은 주소)\n",
    "new2 = numbers.copy()  # 깊은 복사\n",
    "numbers[0] = 3\n",
    "print(new1, new2)"
   ]
  },
  {
   "cell_type": "markdown",
   "id": "ca00edee-ef67-4427-a6ec-fc571113011d",
   "metadata": {},
   "source": [
    "### 2. 튜플\n",
    "    - 리스트와 유사\n",
    "    - () 사용\n",
    "    - 수정 불가능\n",
    "    - len, min, max, count, index, join .. 수정X 함수 가능"
   ]
  },
  {
   "cell_type": "code",
   "execution_count": 116,
   "id": "3b6ef756-cbd0-4bb8-aba3-c05156d5981e",
   "metadata": {},
   "outputs": [
    {
     "name": "stdout",
     "output_type": "stream",
     "text": [
      "('서울', '부산', '광주', '대전')\n"
     ]
    }
   ],
   "source": [
    "city = ('서울', '부산', '광주', '대전')\n",
    "print(city)"
   ]
  },
  {
   "cell_type": "markdown",
   "id": "34518a3d-cef8-4080-a577-9a0a24d4d42c",
   "metadata": {},
   "source": [
    "### 3. 딕셔너리\n",
    "    - c언어 구조체와 유사\n",
    "    - {} 사용\n",
    "    - key와 value의 쌍으로 구성\n",
    "    - 인덱스 X\n",
    "    - key 중복X, value 중복O"
   ]
  },
  {
   "cell_type": "code",
   "execution_count": 119,
   "id": "09df2ef0-2e1f-4224-ae16-9f67f58ff277",
   "metadata": {},
   "outputs": [
    {
     "name": "stdout",
     "output_type": "stream",
     "text": [
      "<class 'dict'>\n",
      "{'name': '홍길동', 'address': '서울시'}\n"
     ]
    }
   ],
   "source": [
    "dic = {'name':'홍길동', 'address':'서울시'}\n",
    "print(type(dic))\n",
    "print(dic)"
   ]
  },
  {
   "cell_type": "code",
   "execution_count": 121,
   "id": "1e65a55a-b71e-4013-85f6-64e9f295400f",
   "metadata": {},
   "outputs": [
    {
     "data": {
      "text/plain": [
       "('홍길동', '서울시')"
      ]
     },
     "execution_count": 121,
     "metadata": {},
     "output_type": "execute_result"
    }
   ],
   "source": [
    "dic['name'], dic['address']"
   ]
  },
  {
   "cell_type": "code",
   "execution_count": 123,
   "id": "61dd24f4-808c-4b19-9fc9-9b67b5d2e271",
   "metadata": {},
   "outputs": [
    {
     "name": "stdout",
     "output_type": "stream",
     "text": [
      "{'name': '홍길동', 'address': '서울시', 'score': '100'}\n"
     ]
    }
   ],
   "source": [
    "# 추가\n",
    "dic['score'] = '100'\n",
    "print(dic)"
   ]
  },
  {
   "cell_type": "code",
   "execution_count": 128,
   "id": "ab425148-943d-4b5d-89ae-cf5c146d90d0",
   "metadata": {},
   "outputs": [
    {
     "name": "stdout",
     "output_type": "stream",
     "text": [
      "None\n"
     ]
    }
   ],
   "source": [
    "print(dic.get('age'))  # dic['age'] -> error "
   ]
  },
  {
   "cell_type": "code",
   "execution_count": 129,
   "id": "d8ad6747-a31a-4979-b04f-f787fd780399",
   "metadata": {},
   "outputs": [
    {
     "name": "stdout",
     "output_type": "stream",
     "text": [
      "{'name': '홍길동', 'address': '서울시'}\n"
     ]
    }
   ],
   "source": [
    "# 제거\n",
    "dic.pop('score')\n",
    "print(dic)"
   ]
  },
  {
   "cell_type": "code",
   "execution_count": 151,
   "id": "8ddacc83-017b-4c70-ba72-52875bc6580a",
   "metadata": {},
   "outputs": [
    {
     "name": "stdout",
     "output_type": "stream",
     "text": [
      "name\n",
      "address\n",
      "True\n",
      "False\n",
      "key = name  | value = 홍길동\n",
      "key = address  | value = 서울시\n",
      "key = name\n",
      "key = address\n",
      "value = 홍길동\n",
      "value = 서울시\n",
      "True\n",
      "True\n"
     ]
    }
   ],
   "source": [
    "# 기존 방식\n",
    "for key in dic:\n",
    "    print(key)\n",
    "\n",
    "print('name' in dic)\n",
    "print('홍길동' in dic)\n",
    "\n",
    "# 딕셔너리 함수\n",
    "for key, value in dic.items():\n",
    "    print(\"key =\", key, \" | value =\", value)\n",
    "for key in dic.keys():\n",
    "    print(\"key =\", key)\n",
    "for value in dic.values():\n",
    "    print(\"value =\", value)\n",
    "\n",
    "print('name' in dic.keys())\n",
    "print('홍길동' in dic.values())"
   ]
  },
  {
   "cell_type": "markdown",
   "id": "12aebf3a-863c-4b29-b8b6-ab48879c32ae",
   "metadata": {},
   "source": [
    "### 4. 셋\n",
    "    - 증복을 허용하지 않는 집합 (순서X, 인덱스X)\n",
    "    - { } 사용, 선언 시 set() 사용\n",
    "    - 여러 자료형 저장 가능"
   ]
  },
  {
   "cell_type": "code",
   "execution_count": 153,
   "id": "5674c110-7eea-4802-acab-1ded8470cdf0",
   "metadata": {},
   "outputs": [
    {
     "name": "stdout",
     "output_type": "stream",
     "text": [
      "[3, 3, 1, 2] {1, 2, 3}\n"
     ]
    }
   ],
   "source": [
    "list = [3, 3, 1, 2]\n",
    "set = {3, 3, 1, 2}\n",
    "print(list, set)"
   ]
  },
  {
   "cell_type": "code",
   "execution_count": 154,
   "id": "fd97164c-0aac-4698-be40-0dd072ab16a4",
   "metadata": {},
   "outputs": [
    {
     "name": "stdout",
     "output_type": "stream",
     "text": [
      "0 orange\n",
      "1 mango\n",
      "2 kiwi\n"
     ]
    }
   ],
   "source": [
    "for i, value in enumerate(fruits):\n",
    "    print(i, value)"
   ]
  },
  {
   "cell_type": "code",
   "execution_count": 155,
   "id": "80f58b75-bde2-4a28-b5e5-d060db64d7c4",
   "metadata": {},
   "outputs": [
    {
     "name": "stdout",
     "output_type": "stream",
     "text": [
      "orange\n",
      "mango\n",
      "kiwi\n"
     ]
    }
   ],
   "source": [
    "for data in fruits:\n",
    "    print(data)"
   ]
  },
  {
   "cell_type": "markdown",
   "id": "fe271978-2fb5-4765-906b-e50d6b8cd583",
   "metadata": {},
   "source": [
    "### 5. 연습문제"
   ]
  },
  {
   "cell_type": "code",
   "execution_count": 169,
   "id": "daadd0b8-5ae7-4cb9-9e09-12f065657cfb",
   "metadata": {},
   "outputs": [
    {
     "name": "stdout",
     "output_type": "stream",
     "text": [
      "[1, 2, 3, 4, 5]\n",
      "[2, 4, 6, 8, 10, 200, 400]\n"
     ]
    }
   ],
   "source": [
    "numbers = [1,2,3,4,5,6,7,8,9,10]\n",
    "numbers.append(100) #1\n",
    "data = [200,300,400,500] #2\n",
    "numbers += data #3\n",
    "print(numbers[:5]) #4\n",
    "print(numbers[1::2]) #5\n",
    "for \n",
    "numbers = numbers[::-1]"
   ]
  },
  {
   "cell_type": "code",
   "execution_count": 180,
   "id": "a3159cb1-eaab-449d-bdc3-c9c58715beb2",
   "metadata": {},
   "outputs": [
    {
     "name": "stdout",
     "output_type": "stream",
     "text": [
      "서울시 금천구\n",
      "90\n",
      "홍길동\n",
      "20\n",
      "서울시 서대문구\n"
     ]
    }
   ],
   "source": [
    "member = {'name':'홍길동', 'age':20, 'address':'서울시 금천구', 'score':90}\n",
    "print(member['address'])\n",
    "print(member['score']); member.pop('score')\n",
    "member['address'] = '서울시 서대문구'\n",
    "for i in member.values():\n",
    "    print(i)"
   ]
  },
  {
   "cell_type": "code",
   "execution_count": 179,
   "id": "25666c1a-9d2f-490b-85dc-2ebc47352248",
   "metadata": {},
   "outputs": [
    {
     "data": {
      "text/plain": [
       "{'name': '홍길동', 'age': 20, 'address': '서울시 서대문구'}"
      ]
     },
     "execution_count": 179,
     "metadata": {},
     "output_type": "execute_result"
    }
   ],
   "source": [
    "member"
   ]
  },
  {
   "cell_type": "code",
   "execution_count": null,
   "id": "de5d7e96-33f1-4c70-a57c-acc6c7f2c5a7",
   "metadata": {},
   "outputs": [],
   "source": []
  }
 ],
 "metadata": {
  "kernelspec": {
   "display_name": "Python 3 (ipykernel)",
   "language": "python",
   "name": "python3"
  },
  "language_info": {
   "codemirror_mode": {
    "name": "ipython",
    "version": 3
   },
   "file_extension": ".py",
   "mimetype": "text/x-python",
   "name": "python",
   "nbconvert_exporter": "python",
   "pygments_lexer": "ipython3",
   "version": "3.11.7"
  }
 },
 "nbformat": 4,
 "nbformat_minor": 5
}
